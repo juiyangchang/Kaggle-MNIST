{
 "cells": [
  {
   "cell_type": "markdown",
   "metadata": {},
   "source": [
    "# Convolutional Neural Network With PyTorch\n",
    "----------------------------------------------"
   ]
  },
  {
   "cell_type": "code",
   "execution_count": 1,
   "metadata": {
    "collapsed": true
   },
   "outputs": [],
   "source": [
    "import pandas as pd\n",
    "import numpy as np\n",
    "\n",
    "import torch\n",
    "import torch.nn as nn\n",
    "import torch.nn.functional as F\n",
    "import torch.optim as optim\n",
    "from torch.autograd import Variable\n",
    "from torch.utils.data import DataLoader, Dataset\n",
    "from torchvision import transforms\n",
    "from torchvision.utils import make_grid\n",
    "\n",
    "import math\n",
    "import random\n",
    "\n",
    "from PIL import Image, ImageOps, ImageEnhance\n",
    "import numbers\n",
    "\n",
    "import matplotlib.pyplot as plt\n",
    "%matplotlib inline"
   ]
  },
  {
   "cell_type": "markdown",
   "metadata": {},
   "source": [
    "## Explore the Data"
   ]
  },
  {
   "cell_type": "code",
   "execution_count": 2,
   "metadata": {},
   "outputs": [
    {
     "name": "stdout",
     "output_type": "stream",
     "text": [
      "Number of training samples: 42000\n",
      "Number of training pixels: 784\n",
      "Number of classes: 10\n"
     ]
    }
   ],
   "source": [
    "train_df = pd.read_csv('../input/train.csv')\n",
    "\n",
    "n_train = len(train_df)\n",
    "n_pixels = len(train_df.columns) - 1\n",
    "n_class = len(set(train_df['label']))\n",
    "\n",
    "print('Number of training samples: {0}'.format(n_train))\n",
    "print('Number of training pixels: {0}'.format(n_pixels))\n",
    "print('Number of classes: {0}'.format(n_class))"
   ]
  },
  {
   "cell_type": "code",
   "execution_count": 3,
   "metadata": {},
   "outputs": [
    {
     "name": "stdout",
     "output_type": "stream",
     "text": [
      "Number of train samples: 28000\n",
      "Number of test pixels: 784\n"
     ]
    }
   ],
   "source": [
    "test_df = pd.read_csv('../input/test.csv')\n",
    "\n",
    "n_test = len(test_df)\n",
    "n_pixels = len(test_df.columns)\n",
    "\n",
    "print('Number of train samples: {0}'.format(n_test))\n",
    "print('Number of test pixels: {0}'.format(n_pixels))"
   ]
  },
  {
   "cell_type": "markdown",
   "metadata": {},
   "source": [
    "### Display some images"
   ]
  },
  {
   "cell_type": "code",
   "execution_count": 4,
   "metadata": {},
   "outputs": [
    {
     "name": "stdout",
     "output_type": "stream",
     "text": [
      "9, 7, 5, 4, 3, 6, 3, 4\n"
     ]
    },
    {
     "data": {
      "image/png": "[encoded data removed]",
      "text/plain": [
       "<matplotlib.figure.Figure at 0x7f3f7841e9e8>"
      ]
     },
     "metadata": {},
     "output_type": "display_data"
    }
   ],
   "source": [
    "random_sel = np.random.randint(n_train, size=8)\n",
    "\n",
    "grid = make_grid(torch.Tensor((train_df.iloc[random_sel, 1:].as_matrix()/255.).reshape((-1, 28, 28))).unsqueeze(1), nrow=8)\n",
    "plt.rcParams['figure.figsize'] = (16, 2)\n",
    "plt.imshow(grid.numpy().transpose((1,2,0)))\n",
    "plt.axis('off')\n",
    "print(*list(train_df.iloc[random_sel, 0].values), sep = ', ')"
   ]
  },
  {
   "cell_type": "markdown",
   "metadata": {},
   "source": [
    "### Histogram of the classes"
   ]
  },
  {
   "cell_type": "code",
   "execution_count": 5,
   "metadata": {},
   "outputs": [
    {
     "data": {
      "image/png": "[encoded data removed]",
      "text/plain": [
       "<matplotlib.figure.Figure at 0x7f3f0fcccba8>"
      ]
     },
     "metadata": {},
     "output_type": "display_data"
    }
   ],
   "source": [
    "plt.rcParams['figure.figsize'] = (8, 5)\n",
    "plt.bar(train_df['label'].value_counts().index, train_df['label'].value_counts())\n",
    "plt.xticks(np.arange(n_class))\n",
    "plt.xlabel('Class', fontsize=16)\n",
    "plt.ylabel('Count', fontsize=16)\n",
    "plt.grid('on', axis='y')"
   ]
  },
  {
   "cell_type": "markdown",
   "metadata": {},
   "source": [
    "## Data Loader"
   ]
  },
  {
   "cell_type": "code",
   "execution_count": 6,
   "metadata": {
    "collapsed": true
   },
   "outputs": [],
   "source": [
    "class MNIST_data(Dataset):\n",
    "    \"\"\"MNIST dtaa set\"\"\"\n",
    "    \n",
    "    def __init__(self, file_path, \n",
    "                 transform = transforms.Compose([transforms.ToPILImage(), transforms.ToTensor(), \n",
    "                     transforms.Normalize(mean=(0.5,), std=(0.5,))])\n",
    "                ):\n",
    "        \n",
    "        df = pd.read_csv(file_path)\n",
    "        \n",
    "        if len(df.columns) == n_pixels:\n",
    "            # test data\n",
    "            self.X = df.values.reshape((-1,28,28)).astype(np.uint8)[:,:,:,None]\n",
    "            self.y = None\n",
    "        else:\n",
    "            # training data\n",
    "            self.X = df.iloc[:,1:].values.reshape((-1,28,28)).astype(np.uint8)[:,:,:,None]\n",
    "            self.y = torch.from_numpy(df.iloc[:,0].values)\n",
    "            \n",
    "        self.transform = transform\n",
    "    \n",
    "    def __len__(self):\n",
    "        return len(self.X)\n",
    "\n",
    "    def __getitem__(self, idx):\n",
    "        if self.y is not None:\n",
    "            return self.transform(self.X[idx]), self.y[idx]\n",
    "        else:\n",
    "            return self.transform(self.X[idx])"
   ]
  },
  {
   "cell_type": "markdown",
   "metadata": {},
   "source": [
    "### Random Rotation Transformation\n",
    "Randomly rotate the image. Available in upcoming torchvision but not now."
   ]
  },
  {
   "cell_type": "code",
   "execution_count": 7,
   "metadata": {
    "collapsed": true
   },
   "outputs": [],
   "source": [
    "class RandomRotation(object):\n",
    "    \"\"\"\n",
    "    https://github.com/pytorch/vision/tree/master/torchvision/transforms\n",
    "    Rotate the image by angle.\n",
    "    Args:\n",
    "        degrees (sequence or float or int): Range of degrees to select from.\n",
    "            If degrees is a number instead of sequence like (min, max), the range of degrees\n",
    "            will be (-degrees, +degrees).\n",
    "        resample ({PIL.Image.NEAREST, PIL.Image.BILINEAR, PIL.Image.BICUBIC}, optional):\n",
    "            An optional resampling filter.\n",
    "            See http://pillow.readthedocs.io/en/3.4.x/handbook/concepts.html#filters\n",
    "            If omitted, or if the image has mode \"1\" or \"P\", it is set to PIL.Image.NEAREST.\n",
    "        expand (bool, optional): Optional expansion flag.\n",
    "            If true, expands the output to make it large enough to hold the entire rotated image.\n",
    "            If false or omitted, make the output image the same size as the input image.\n",
    "            Note that the expand flag assumes rotation around the center and no translation.\n",
    "        center (2-tuple, optional): Optional center of rotation.\n",
    "            Origin is the upper left corner.\n",
    "            Default is the center of the image.\n",
    "    \"\"\"\n",
    "\n",
    "    def __init__(self, degrees, resample=False, expand=False, center=None):\n",
    "        if isinstance(degrees, numbers.Number):\n",
    "            if degrees < 0:\n",
    "                raise ValueError(\"If degrees is a single number, it must be positive.\")\n",
    "            self.degrees = (-degrees, degrees)\n",
    "        else:\n",
    "            if len(degrees) != 2:\n",
    "                raise ValueError(\"If degrees is a sequence, it must be of len 2.\")\n",
    "            self.degrees = degrees\n",
    "\n",
    "        self.resample = resample\n",
    "        self.expand = expand\n",
    "        self.center = center\n",
    "\n",
    "    @staticmethod\n",
    "    def get_params(degrees):\n",
    "        \"\"\"Get parameters for ``rotate`` for a random rotation.\n",
    "        Returns:\n",
    "            sequence: params to be passed to ``rotate`` for random rotation.\n",
    "        \"\"\"\n",
    "        angle = np.random.uniform(degrees[0], degrees[1])\n",
    "\n",
    "        return angle\n",
    "\n",
    "    def __call__(self, img):\n",
    "        \"\"\"\n",
    "            img (PIL Image): Image to be rotated.\n",
    "        Returns:\n",
    "            PIL Image: Rotated image.\n",
    "        \"\"\"\n",
    "        \n",
    "        def rotate(img, angle, resample=False, expand=False, center=None):\n",
    "            \"\"\"Rotate the image by angle and then (optionally) translate it by (n_columns, n_rows)\n",
    "            Args:\n",
    "            img (PIL Image): PIL Image to be rotated.\n",
    "            angle ({float, int}): In degrees degrees counter clockwise order.\n",
    "            resample ({PIL.Image.NEAREST, PIL.Image.BILINEAR, PIL.Image.BICUBIC}, optional):\n",
    "            An optional resampling filter.\n",
    "            See http://pillow.readthedocs.io/en/3.4.x/handbook/concepts.html#filters\n",
    "            If omitted, or if the image has mode \"1\" or \"P\", it is set to PIL.Image.NEAREST.\n",
    "            expand (bool, optional): Optional expansion flag.\n",
    "            If true, expands the output image to make it large enough to hold the entire rotated image.\n",
    "            If false or omitted, make the output image the same size as the input image.\n",
    "            Note that the expand flag assumes rotation around the center and no translation.\n",
    "            center (2-tuple, optional): Optional center of rotation.\n",
    "            Origin is the upper left corner.\n",
    "            Default is the center of the image.\n",
    "            \"\"\"\n",
    "                \n",
    "            return img.rotate(angle, resample, expand, center)\n",
    "\n",
    "        angle = self.get_params(self.degrees)\n",
    "\n",
    "        return rotate(img, angle, self.resample, self.expand, self.center)"
   ]
  },
  {
   "cell_type": "markdown",
   "metadata": {},
   "source": [
    "### Random Vertical and Horizontal Shift"
   ]
  },
  {
   "cell_type": "code",
   "execution_count": 8,
   "metadata": {},
   "outputs": [],
   "source": [
    "class RandomShift(object):\n",
    "    def __init__(self, shift):\n",
    "        self.shift = shift\n",
    "        \n",
    "    @staticmethod\n",
    "    def get_params(shift):\n",
    "        \"\"\"Get parameters for ``rotate`` for a random rotation.\n",
    "        Returns:\n",
    "            sequence: params to be passed to ``rotate`` for random rotation.\n",
    "        \"\"\"\n",
    "        hshift, vshift = np.random.uniform(-shift, shift, size=2)\n",
    "\n",
    "        return hshift, vshift \n",
    "    def __call__(self, img):\n",
    "        hshift, vshift = self.get_params(self.shift)\n",
    "        \n",
    "        return img.transform(img.size, Image.AFFINE, (1,0,hshift,0,1,vshift), resample=Image.BICUBIC, fill=1)\n",
    "    "
   ]
  },
  {
   "cell_type": "markdown",
   "metadata": {},
   "source": [
    "## Load the Data into Tensors\n",
    "For the training set, apply random rotation within the range of (-45, 45) degrees, shift by (-3, 3) pixels\n",
    "and normalize pixel values to [-1, 1].  For the test set, only apply nomalization."
   ]
  },
  {
   "cell_type": "code",
   "execution_count": 10,
   "metadata": {},
   "outputs": [],
   "source": [
    "batch_size = 64\n",
    "\n",
    "train_dataset = MNIST_data('../input/train.csv', transform= transforms.Compose(\n",
    "                            [transforms.ToPILImage(), RandomRotation(degrees=45), RandomShift(3),\n",
    "                             transforms.ToTensor(), transforms.Normalize(mean=(0.5,), std=(0.5,))]))\n",
    "test_dataset = MNIST_data('../input/test.csv')\n",
    "\n",
    "\n",
    "train_loader = torch.utils.data.DataLoader(dataset=train_dataset,\n",
    "                                           batch_size=batch_size, shuffle=True)\n",
    "test_loader = torch.utils.data.DataLoader(dataset=test_dataset,\n",
    "                                           batch_size=batch_size, shuffle=False)"
   ]
  },
  {
   "cell_type": "markdown",
   "metadata": {},
   "source": [
    "### Visualize the Transformations"
   ]
  },
  {
   "cell_type": "code",
   "execution_count": 11,
   "metadata": {},
   "outputs": [
    {
     "name": "stderr",
     "output_type": "stream",
     "text": [
      "/home/jychang/anaconda3/lib/python3.6/site-packages/ipykernel/__main__.py:8: FutureWarning: reshape is deprecated and will raise in a subsequent release. Please use .values.reshape(...) instead\n"
     ]
    },
    {
     "data": {
      "image/png": "[encoded data removed]",
      "text/plain": [
       "<matplotlib.figure.Figure at 0x7f3f0f86d198>"
      ]
     },
     "metadata": {},
     "output_type": "display_data"
    }
   ],
   "source": [
    "rotate = RandomRotation(45)\n",
    "shift = RandomShift(3)\n",
    "composed = transforms.Compose([RandomRotation(45),\n",
    "                               RandomShift(3)])\n",
    "\n",
    "# Apply each of the above transforms on sample.\n",
    "fig = plt.figure()\n",
    "sample = transforms.ToPILImage()(train_df.iloc[65,1:].reshape((28,28)).astype(np.uint8)[:,:,None])\n",
    "for i, tsfrm in enumerate([rotate, shift, composed]):\n",
    "    transformed_sample = tsfrm(sample)\n",
    "\n",
    "    ax = plt.subplot(1, 3, i + 1)\n",
    "    plt.tight_layout()\n",
    "    ax.set_title(type(tsfrm).__name__)\n",
    "    ax.imshow(np.reshape(np.array(list(transformed_sample.getdata())), (-1,28)), cmap='gray')    \n",
    "\n",
    "plt.show()"
   ]
  },
  {
   "cell_type": "markdown",
   "metadata": {},
   "source": [
    "## Network Structure"
   ]
  },
  {
   "cell_type": "code",
   "execution_count": 12,
   "metadata": {},
   "outputs": [],
   "source": [
    "class Net(nn.Module):    \n",
    "    def __init__(self):\n",
    "        super(Net, self).__init__()\n",
    "          \n",
    "        self.features = nn.Sequential(\n",
    "            nn.Conv2d(1, 32, kernel_size=3, stride=1, padding=1),\n",
    "            nn.BatchNorm2d(32),\n",
    "            nn.ReLU(inplace=True),\n",
    "            nn.Conv2d(32, 32, kernel_size=3, stride=1, padding=1),\n",
    "            nn.BatchNorm2d(32),\n",
    "            nn.ReLU(inplace=True),\n",
    "            nn.MaxPool2d(kernel_size=2, stride=2),\n",
    "            nn.Conv2d(32, 64, kernel_size=3, padding=1),\n",
    "            nn.BatchNorm2d(64),\n",
    "            nn.ReLU(inplace=True),\n",
    "            nn.Conv2d(64, 64, kernel_size=3, padding=1),\n",
    "            nn.BatchNorm2d(64),\n",
    "            nn.ReLU(inplace=True),\n",
    "            nn.MaxPool2d(kernel_size=2, stride=2),\n",
    "            nn.Conv2d(64, 128, kernel_size=3, padding=1),\n",
    "            nn.BatchNorm2d(128),\n",
    "            nn.ReLU(inplace=True),\n",
    "            nn.Conv2d(128, 128, kernel_size=3, padding=1),\n",
    "            nn.BatchNorm2d(128),\n",
    "            nn.ReLU(inplace=True),\n",
    "            nn.Conv2d(128, 128, kernel_size=3, padding=1),\n",
    "            nn.BatchNorm2d(128),\n",
    "            nn.ReLU(inplace=True),\n",
    "            nn.MaxPool2d(kernel_size=2, stride=2),\n",
    "        )\n",
    "          \n",
    "        self.classifier = nn.Sequential(\n",
    "            nn.Dropout(),\n",
    "            nn.Linear(128 * 3 * 3, 128),\n",
    "            nn.ReLU(inplace=True),\n",
    "            nn.Dropout(),\n",
    "            nn.Linear(128, 10),\n",
    "        )\n",
    "          \n",
    "        for m in self.features.children():\n",
    "            if isinstance(m, nn.Conv2d):\n",
    "                n = m.kernel_size[0] * m.kernel_size[1] * m.out_channels\n",
    "                m.weight.data.normal_(0, math.sqrt(2. / n))\n",
    "            elif isinstance(m, nn.BatchNorm2d):\n",
    "                m.weight.data.fill_(1)\n",
    "                m.bias.data.zero_()\n",
    "        \n",
    "        for m in self.classifier.children():\n",
    "            if isinstance(m, nn.Linear):\n",
    "                nn.init.xavier_uniform(m.weight)\n",
    "                \n",
    "\n",
    "    def forward(self, x):\n",
    "        x = self.features(x)\n",
    "        x = x.view(x.size(0), -1)\n",
    "        x = self.classifier(x)\n",
    "        \n",
    "        return x     "
   ]
  },
  {
   "cell_type": "code",
   "execution_count": 13,
   "metadata": {
    "collapsed": true
   },
   "outputs": [],
   "source": [
    "model = Net()\n",
    "\n",
    "optimizer = optim.Adam(model.parameters(), lr=0.003)\n",
    "\n",
    "criterion = nn.CrossEntropyLoss()\n",
    "\n",
    "if torch.cuda.is_available():\n",
    "    model = model.cuda()\n",
    "    criterion = criterion.cuda()"
   ]
  },
  {
   "cell_type": "markdown",
   "metadata": {},
   "source": [
    "## Training and Evaluation"
   ]
  },
  {
   "cell_type": "code",
   "execution_count": 14,
   "metadata": {},
   "outputs": [],
   "source": [
    "def train(epoch):\n",
    "    model.train()\n",
    "\n",
    "    for batch_idx, (data, target) in enumerate(train_loader):\n",
    "        data, target = Variable(data), Variable(target)\n",
    "        \n",
    "        if torch.cuda.is_available():\n",
    "            data = data.cuda()\n",
    "            target = target.cuda()\n",
    "        \n",
    "        optimizer.zero_grad()\n",
    "        output = model(data)\n",
    "        loss = criterion(output, target)\n",
    "        \n",
    "        loss.backward()\n",
    "        optimizer.step()\n",
    "        \n",
    "        if batch_idx% 100 == 0:\n",
    "            print('Train Epoch: {} [{}/{} ({:.0f}%)]\\tLoss: {:.6f}'.format(\n",
    "                epoch, batch_idx * len(data), len(train_loader.dataset),\n",
    "                100. * batch_idx / len(train_loader), loss.data[0]))"
   ]
  },
  {
   "cell_type": "code",
   "execution_count": 15,
   "metadata": {},
   "outputs": [],
   "source": [
    "def evaluate(data_loader):\n",
    "    model.eval()\n",
    "    loss = 0\n",
    "    correct = 0\n",
    "    \n",
    "    for data, target in data_loader:\n",
    "        data, target = Variable(data, volatile=True), Variable(target)\n",
    "        if torch.cuda.is_available():\n",
    "            data = data.cuda()\n",
    "            target = target.cuda()\n",
    "        \n",
    "        output = model(data)\n",
    "        \n",
    "        loss += F.cross_entropy(output, target, size_average=False).data[0]\n",
    "\n",
    "        pred = output.data.max(1, keepdim=True)[1]\n",
    "        correct += pred.eq(target.data.view_as(pred)).cpu().sum()\n",
    "        \n",
    "    loss /= len(data_loader.dataset)\n",
    "        \n",
    "    print('\\nAverage loss: {:.4f}, Accuracy: {}/{} ({:.0f}%)\\n'.format(\n",
    "        loss, correct, len(data_loader.dataset),\n",
    "        100. * correct / len(data_loader.dataset)))"
   ]
  },
  {
   "cell_type": "markdown",
   "metadata": {},
   "source": [
    "### Train the network"
   ]
  },
  {
   "cell_type": "code",
   "execution_count": 16,
   "metadata": {},
   "outputs": [
    {
     "name": "stdout",
     "output_type": "stream",
     "text": [
      "Train Epoch: 0 [0/42000 (0%)]\tLoss: 5.358752\n",
      "Train Epoch: 0 [6400/42000 (15%)]\tLoss: 1.396061\n",
      "Train Epoch: 0 [12800/42000 (30%)]\tLoss: 0.924599\n",
      "Train Epoch: 0 [19200/42000 (46%)]\tLoss: 0.878184\n",
      "Train Epoch: 0 [25600/42000 (61%)]\tLoss: 0.378729\n",
      "Train Epoch: 0 [32000/42000 (76%)]\tLoss: 0.490264\n",
      "Train Epoch: 0 [38400/42000 (91%)]\tLoss: 0.357702\n",
      "\n",
      "Average loss: 0.1928, Accuracy: 39668/42000 (94%)\n",
      "\n",
      "Train Epoch: 1 [0/42000 (0%)]\tLoss: 0.277282\n",
      "Train Epoch: 1 [6400/42000 (15%)]\tLoss: 0.181907\n",
      "Train Epoch: 1 [12800/42000 (30%)]\tLoss: 0.164069\n",
      "Train Epoch: 1 [19200/42000 (46%)]\tLoss: 0.389159\n",
      "Train Epoch: 1 [25600/42000 (61%)]\tLoss: 0.339012\n",
      "Train Epoch: 1 [32000/42000 (76%)]\tLoss: 0.298699\n",
      "Train Epoch: 1 [38400/42000 (91%)]\tLoss: 0.249344\n",
      "\n",
      "Average loss: 0.1771, Accuracy: 39901/42000 (95%)\n",
      "\n",
      "Train Epoch: 2 [0/42000 (0%)]\tLoss: 0.580661\n",
      "Train Epoch: 2 [6400/42000 (15%)]\tLoss: 0.088132\n",
      "Train Epoch: 2 [12800/42000 (30%)]\tLoss: 0.311965\n",
      "Train Epoch: 2 [19200/42000 (46%)]\tLoss: 0.204177\n",
      "Train Epoch: 2 [25600/42000 (61%)]\tLoss: 0.108538\n",
      "Train Epoch: 2 [32000/42000 (76%)]\tLoss: 0.160813\n",
      "Train Epoch: 2 [38400/42000 (91%)]\tLoss: 0.088842\n",
      "\n",
      "Average loss: 0.1111, Accuracy: 40689/42000 (97%)\n",
      "\n",
      "Train Epoch: 3 [0/42000 (0%)]\tLoss: 0.211977\n",
      "Train Epoch: 3 [6400/42000 (15%)]\tLoss: 0.063094\n",
      "Train Epoch: 3 [12800/42000 (30%)]\tLoss: 0.212682\n",
      "Train Epoch: 3 [19200/42000 (46%)]\tLoss: 0.151332\n",
      "Train Epoch: 3 [25600/42000 (61%)]\tLoss: 0.163926\n",
      "Train Epoch: 3 [32000/42000 (76%)]\tLoss: 0.082918\n",
      "Train Epoch: 3 [38400/42000 (91%)]\tLoss: 0.351179\n",
      "\n",
      "Average loss: 0.0940, Accuracy: 40909/42000 (97%)\n",
      "\n",
      "Train Epoch: 4 [0/42000 (0%)]\tLoss: 0.222765\n",
      "Train Epoch: 4 [6400/42000 (15%)]\tLoss: 0.189817\n",
      "Train Epoch: 4 [12800/42000 (30%)]\tLoss: 0.109041\n",
      "Train Epoch: 4 [19200/42000 (46%)]\tLoss: 0.061258\n",
      "Train Epoch: 4 [25600/42000 (61%)]\tLoss: 0.050040\n",
      "Train Epoch: 4 [32000/42000 (76%)]\tLoss: 0.144510\n",
      "Train Epoch: 4 [38400/42000 (91%)]\tLoss: 0.078700\n",
      "\n",
      "Average loss: 0.1514, Accuracy: 40339/42000 (96%)\n",
      "\n",
      "Train Epoch: 5 [0/42000 (0%)]\tLoss: 0.068177\n",
      "Train Epoch: 5 [6400/42000 (15%)]\tLoss: 0.189601\n",
      "Train Epoch: 5 [12800/42000 (30%)]\tLoss: 0.273391\n",
      "Train Epoch: 5 [19200/42000 (46%)]\tLoss: 0.094253\n",
      "Train Epoch: 5 [25600/42000 (61%)]\tLoss: 0.065751\n",
      "Train Epoch: 5 [32000/42000 (76%)]\tLoss: 0.049201\n",
      "Train Epoch: 5 [38400/42000 (91%)]\tLoss: 0.092330\n",
      "\n",
      "Average loss: 0.0965, Accuracy: 40906/42000 (97%)\n",
      "\n",
      "Train Epoch: 6 [0/42000 (0%)]\tLoss: 0.063875\n",
      "Train Epoch: 6 [6400/42000 (15%)]\tLoss: 0.041371\n",
      "Train Epoch: 6 [12800/42000 (30%)]\tLoss: 0.014584\n",
      "Train Epoch: 6 [19200/42000 (46%)]\tLoss: 0.259125\n",
      "Train Epoch: 6 [25600/42000 (61%)]\tLoss: 0.186123\n",
      "Train Epoch: 6 [32000/42000 (76%)]\tLoss: 0.014706\n",
      "Train Epoch: 6 [38400/42000 (91%)]\tLoss: 0.141748\n",
      "\n",
      "Average loss: 0.0643, Accuracy: 41236/42000 (98%)\n",
      "\n",
      "Train Epoch: 7 [0/42000 (0%)]\tLoss: 0.341864\n",
      "Train Epoch: 7 [6400/42000 (15%)]\tLoss: 0.007626\n",
      "Train Epoch: 7 [12800/42000 (30%)]\tLoss: 0.055305\n",
      "Train Epoch: 7 [19200/42000 (46%)]\tLoss: 0.303727\n",
      "Train Epoch: 7 [25600/42000 (61%)]\tLoss: 0.024172\n",
      "Train Epoch: 7 [32000/42000 (76%)]\tLoss: 0.336344\n",
      "Train Epoch: 7 [38400/42000 (91%)]\tLoss: 0.011423\n",
      "\n",
      "Average loss: 0.0927, Accuracy: 40960/42000 (98%)\n",
      "\n",
      "Train Epoch: 8 [0/42000 (0%)]\tLoss: 0.019606\n",
      "Train Epoch: 8 [6400/42000 (15%)]\tLoss: 0.090033\n",
      "Train Epoch: 8 [12800/42000 (30%)]\tLoss: 0.039147\n",
      "Train Epoch: 8 [19200/42000 (46%)]\tLoss: 0.067257\n",
      "Train Epoch: 8 [25600/42000 (61%)]\tLoss: 0.042900\n",
      "Train Epoch: 8 [32000/42000 (76%)]\tLoss: 0.117159\n",
      "Train Epoch: 8 [38400/42000 (91%)]\tLoss: 0.023435\n",
      "\n",
      "Average loss: 0.0816, Accuracy: 41134/42000 (98%)\n",
      "\n",
      "Train Epoch: 9 [0/42000 (0%)]\tLoss: 0.082095\n",
      "Train Epoch: 9 [6400/42000 (15%)]\tLoss: 0.052452\n",
      "Train Epoch: 9 [12800/42000 (30%)]\tLoss: 0.081203\n",
      "Train Epoch: 9 [19200/42000 (46%)]\tLoss: 0.024322\n",
      "Train Epoch: 9 [25600/42000 (61%)]\tLoss: 0.013048\n",
      "Train Epoch: 9 [32000/42000 (76%)]\tLoss: 0.109299\n",
      "Train Epoch: 9 [38400/42000 (91%)]\tLoss: 0.019576\n",
      "\n",
      "Average loss: 0.0807, Accuracy: 41130/42000 (98%)\n",
      "\n",
      "Train Epoch: 10 [0/42000 (0%)]\tLoss: 0.155686\n",
      "Train Epoch: 10 [6400/42000 (15%)]\tLoss: 0.092286\n",
      "Train Epoch: 10 [12800/42000 (30%)]\tLoss: 0.120746\n",
      "Train Epoch: 10 [19200/42000 (46%)]\tLoss: 0.063891\n",
      "Train Epoch: 10 [25600/42000 (61%)]\tLoss: 0.083042\n",
      "Train Epoch: 10 [32000/42000 (76%)]\tLoss: 0.085596\n",
      "Train Epoch: 10 [38400/42000 (91%)]\tLoss: 0.246523\n",
      "\n",
      "Average loss: 0.0568, Accuracy: 41369/42000 (98%)\n",
      "\n",
      "Train Epoch: 11 [0/42000 (0%)]\tLoss: 0.122424\n",
      "Train Epoch: 11 [6400/42000 (15%)]\tLoss: 0.122959\n",
      "Train Epoch: 11 [12800/42000 (30%)]\tLoss: 0.257719\n",
      "Train Epoch: 11 [19200/42000 (46%)]\tLoss: 0.059021\n",
      "Train Epoch: 11 [25600/42000 (61%)]\tLoss: 0.031685\n",
      "Train Epoch: 11 [32000/42000 (76%)]\tLoss: 0.149715\n",
      "Train Epoch: 11 [38400/42000 (91%)]\tLoss: 0.214547\n",
      "\n",
      "Average loss: 0.0545, Accuracy: 41368/42000 (98%)\n",
      "\n",
      "Train Epoch: 12 [0/42000 (0%)]\tLoss: 0.028025\n",
      "Train Epoch: 12 [6400/42000 (15%)]\tLoss: 0.037820\n",
      "Train Epoch: 12 [12800/42000 (30%)]\tLoss: 0.055557\n",
      "Train Epoch: 12 [19200/42000 (46%)]\tLoss: 0.076837\n",
      "Train Epoch: 12 [25600/42000 (61%)]\tLoss: 0.042805\n",
      "Train Epoch: 12 [32000/42000 (76%)]\tLoss: 0.011398\n",
      "Train Epoch: 12 [38400/42000 (91%)]\tLoss: 0.104661\n",
      "\n",
      "Average loss: 0.0466, Accuracy: 41459/42000 (99%)\n",
      "\n",
      "Train Epoch: 13 [0/42000 (0%)]\tLoss: 0.082280\n",
      "Train Epoch: 13 [6400/42000 (15%)]\tLoss: 0.053561\n",
      "Train Epoch: 13 [12800/42000 (30%)]\tLoss: 0.026913\n",
      "Train Epoch: 13 [19200/42000 (46%)]\tLoss: 0.003346\n",
      "Train Epoch: 13 [25600/42000 (61%)]\tLoss: 0.053124\n",
      "Train Epoch: 13 [32000/42000 (76%)]\tLoss: 0.091621\n",
      "Train Epoch: 13 [38400/42000 (91%)]\tLoss: 0.034798\n",
      "\n",
      "Average loss: 0.0533, Accuracy: 41411/42000 (99%)\n",
      "\n",
      "Train Epoch: 14 [0/42000 (0%)]\tLoss: 0.033911\n",
      "Train Epoch: 14 [6400/42000 (15%)]\tLoss: 0.045820\n",
      "Train Epoch: 14 [12800/42000 (30%)]\tLoss: 0.019455\n",
      "Train Epoch: 14 [19200/42000 (46%)]\tLoss: 0.031518\n",
      "Train Epoch: 14 [25600/42000 (61%)]\tLoss: 0.005617\n",
      "Train Epoch: 14 [32000/42000 (76%)]\tLoss: 0.220099\n",
      "Train Epoch: 14 [38400/42000 (91%)]\tLoss: 0.005939\n",
      "\n",
      "Average loss: 0.0362, Accuracy: 41562/42000 (99%)\n",
      "\n",
      "Train Epoch: 15 [0/42000 (0%)]\tLoss: 0.044945\n",
      "Train Epoch: 15 [6400/42000 (15%)]\tLoss: 0.065110\n",
      "Train Epoch: 15 [12800/42000 (30%)]\tLoss: 0.013107\n",
      "Train Epoch: 15 [19200/42000 (46%)]\tLoss: 0.094799\n",
      "Train Epoch: 15 [25600/42000 (61%)]\tLoss: 0.109072\n",
      "Train Epoch: 15 [32000/42000 (76%)]\tLoss: 0.051973\n",
      "Train Epoch: 15 [38400/42000 (91%)]\tLoss: 0.068239\n",
      "\n",
      "Average loss: 0.0440, Accuracy: 41538/42000 (99%)\n",
      "\n",
      "Train Epoch: 16 [0/42000 (0%)]\tLoss: 0.016849\n",
      "Train Epoch: 16 [6400/42000 (15%)]\tLoss: 0.068881\n",
      "Train Epoch: 16 [12800/42000 (30%)]\tLoss: 0.020143\n",
      "Train Epoch: 16 [19200/42000 (46%)]\tLoss: 0.058850\n",
      "Train Epoch: 16 [25600/42000 (61%)]\tLoss: 0.046868\n",
      "Train Epoch: 16 [32000/42000 (76%)]\tLoss: 0.051048\n",
      "Train Epoch: 16 [38400/42000 (91%)]\tLoss: 0.094021\n",
      "\n",
      "Average loss: 0.0356, Accuracy: 41561/42000 (99%)\n",
      "\n",
      "Train Epoch: 17 [0/42000 (0%)]\tLoss: 0.006546\n",
      "Train Epoch: 17 [6400/42000 (15%)]\tLoss: 0.005699\n",
      "Train Epoch: 17 [12800/42000 (30%)]\tLoss: 0.030250\n",
      "Train Epoch: 17 [19200/42000 (46%)]\tLoss: 0.002961\n",
      "Train Epoch: 17 [25600/42000 (61%)]\tLoss: 0.016632\n",
      "Train Epoch: 17 [32000/42000 (76%)]\tLoss: 0.004070\n",
      "Train Epoch: 17 [38400/42000 (91%)]\tLoss: 0.017798\n",
      "\n",
      "Average loss: 0.0512, Accuracy: 41397/42000 (99%)\n",
      "\n",
      "Train Epoch: 18 [0/42000 (0%)]\tLoss: 0.005168\n",
      "Train Epoch: 18 [6400/42000 (15%)]\tLoss: 0.007013\n",
      "Train Epoch: 18 [12800/42000 (30%)]\tLoss: 0.004523\n",
      "Train Epoch: 18 [19200/42000 (46%)]\tLoss: 0.129949\n",
      "Train Epoch: 18 [25600/42000 (61%)]\tLoss: 0.156993\n",
      "Train Epoch: 18 [32000/42000 (76%)]\tLoss: 0.156694\n",
      "Train Epoch: 18 [38400/42000 (91%)]\tLoss: 0.041024\n",
      "\n",
      "Average loss: 0.0397, Accuracy: 41521/42000 (99%)\n",
      "\n",
      "Train Epoch: 19 [0/42000 (0%)]\tLoss: 0.015155\n",
      "Train Epoch: 19 [6400/42000 (15%)]\tLoss: 0.008804\n",
      "Train Epoch: 19 [12800/42000 (30%)]\tLoss: 0.048912\n",
      "Train Epoch: 19 [19200/42000 (46%)]\tLoss: 0.169819\n",
      "Train Epoch: 19 [25600/42000 (61%)]\tLoss: 0.056257\n",
      "Train Epoch: 19 [32000/42000 (76%)]\tLoss: 0.073759\n",
      "Train Epoch: 19 [38400/42000 (91%)]\tLoss: 0.011546\n",
      "\n",
      "Average loss: 0.0416, Accuracy: 41550/42000 (99%)\n",
      "\n",
      "Train Epoch: 20 [0/42000 (0%)]\tLoss: 0.281873\n",
      "Train Epoch: 20 [6400/42000 (15%)]\tLoss: 0.031273\n",
      "Train Epoch: 20 [12800/42000 (30%)]\tLoss: 0.094754\n",
      "Train Epoch: 20 [19200/42000 (46%)]\tLoss: 0.013825\n",
      "Train Epoch: 20 [25600/42000 (61%)]\tLoss: 0.013619\n"
     ]
    },
    {
     "name": "stdout",
     "output_type": "stream",
     "text": [
      "Train Epoch: 20 [32000/42000 (76%)]\tLoss: 0.006847\n",
      "Train Epoch: 20 [38400/42000 (91%)]\tLoss: 0.019286\n",
      "\n",
      "Average loss: 0.0402, Accuracy: 41576/42000 (99%)\n",
      "\n",
      "Train Epoch: 21 [0/42000 (0%)]\tLoss: 0.156475\n",
      "Train Epoch: 21 [6400/42000 (15%)]\tLoss: 0.105724\n",
      "Train Epoch: 21 [12800/42000 (30%)]\tLoss: 0.066454\n",
      "Train Epoch: 21 [19200/42000 (46%)]\tLoss: 0.073228\n",
      "Train Epoch: 21 [25600/42000 (61%)]\tLoss: 0.054301\n",
      "Train Epoch: 21 [32000/42000 (76%)]\tLoss: 0.006316\n",
      "Train Epoch: 21 [38400/42000 (91%)]\tLoss: 0.086152\n",
      "\n",
      "Average loss: 0.0363, Accuracy: 41585/42000 (99%)\n",
      "\n",
      "Train Epoch: 22 [0/42000 (0%)]\tLoss: 0.086656\n",
      "Train Epoch: 22 [6400/42000 (15%)]\tLoss: 0.053634\n",
      "Train Epoch: 22 [12800/42000 (30%)]\tLoss: 0.140414\n",
      "Train Epoch: 22 [19200/42000 (46%)]\tLoss: 0.013158\n",
      "Train Epoch: 22 [25600/42000 (61%)]\tLoss: 0.050386\n",
      "Train Epoch: 22 [32000/42000 (76%)]\tLoss: 0.165757\n",
      "Train Epoch: 22 [38400/42000 (91%)]\tLoss: 0.113012\n",
      "\n",
      "Average loss: 0.0426, Accuracy: 41528/42000 (99%)\n",
      "\n",
      "Train Epoch: 23 [0/42000 (0%)]\tLoss: 0.059387\n",
      "Train Epoch: 23 [6400/42000 (15%)]\tLoss: 0.063612\n",
      "Train Epoch: 23 [12800/42000 (30%)]\tLoss: 0.016294\n",
      "Train Epoch: 23 [19200/42000 (46%)]\tLoss: 0.002770\n",
      "Train Epoch: 23 [25600/42000 (61%)]\tLoss: 0.015480\n",
      "Train Epoch: 23 [32000/42000 (76%)]\tLoss: 0.018858\n",
      "Train Epoch: 23 [38400/42000 (91%)]\tLoss: 0.018079\n",
      "\n",
      "Average loss: 0.0357, Accuracy: 41580/42000 (99%)\n",
      "\n",
      "Train Epoch: 24 [0/42000 (0%)]\tLoss: 0.114721\n",
      "Train Epoch: 24 [6400/42000 (15%)]\tLoss: 0.042154\n",
      "Train Epoch: 24 [12800/42000 (30%)]\tLoss: 0.057150\n",
      "Train Epoch: 24 [19200/42000 (46%)]\tLoss: 0.079716\n",
      "Train Epoch: 24 [25600/42000 (61%)]\tLoss: 0.008393\n",
      "Train Epoch: 24 [32000/42000 (76%)]\tLoss: 0.014383\n",
      "Train Epoch: 24 [38400/42000 (91%)]\tLoss: 0.083225\n",
      "\n",
      "Average loss: 0.0378, Accuracy: 41573/42000 (99%)\n",
      "\n",
      "Train Epoch: 25 [0/42000 (0%)]\tLoss: 0.079570\n",
      "Train Epoch: 25 [6400/42000 (15%)]\tLoss: 0.022172\n",
      "Train Epoch: 25 [12800/42000 (30%)]\tLoss: 0.033918\n",
      "Train Epoch: 25 [19200/42000 (46%)]\tLoss: 0.032816\n",
      "Train Epoch: 25 [25600/42000 (61%)]\tLoss: 0.014400\n",
      "Train Epoch: 25 [32000/42000 (76%)]\tLoss: 0.027274\n",
      "Train Epoch: 25 [38400/42000 (91%)]\tLoss: 0.062814\n",
      "\n",
      "Average loss: 0.0284, Accuracy: 41663/42000 (99%)\n",
      "\n",
      "Train Epoch: 26 [0/42000 (0%)]\tLoss: 0.015265\n",
      "Train Epoch: 26 [6400/42000 (15%)]\tLoss: 0.025295\n",
      "Train Epoch: 26 [12800/42000 (30%)]\tLoss: 0.000979\n",
      "Train Epoch: 26 [19200/42000 (46%)]\tLoss: 0.073484\n",
      "Train Epoch: 26 [25600/42000 (61%)]\tLoss: 0.071060\n",
      "Train Epoch: 26 [32000/42000 (76%)]\tLoss: 0.091026\n",
      "Train Epoch: 26 [38400/42000 (91%)]\tLoss: 0.060848\n",
      "\n",
      "Average loss: 0.0357, Accuracy: 41597/42000 (99%)\n",
      "\n",
      "Train Epoch: 27 [0/42000 (0%)]\tLoss: 0.009484\n",
      "Train Epoch: 27 [6400/42000 (15%)]\tLoss: 0.047047\n",
      "Train Epoch: 27 [12800/42000 (30%)]\tLoss: 0.028550\n",
      "Train Epoch: 27 [19200/42000 (46%)]\tLoss: 0.011603\n",
      "Train Epoch: 27 [25600/42000 (61%)]\tLoss: 0.006102\n",
      "Train Epoch: 27 [32000/42000 (76%)]\tLoss: 0.001729\n",
      "Train Epoch: 27 [38400/42000 (91%)]\tLoss: 0.028742\n",
      "\n",
      "Average loss: 0.0452, Accuracy: 41398/42000 (99%)\n",
      "\n",
      "Train Epoch: 28 [0/42000 (0%)]\tLoss: 0.009187\n",
      "Train Epoch: 28 [6400/42000 (15%)]\tLoss: 0.084305\n",
      "Train Epoch: 28 [12800/42000 (30%)]\tLoss: 0.000570\n",
      "Train Epoch: 28 [19200/42000 (46%)]\tLoss: 0.015916\n",
      "Train Epoch: 28 [25600/42000 (61%)]\tLoss: 0.028195\n",
      "Train Epoch: 28 [32000/42000 (76%)]\tLoss: 0.019249\n",
      "Train Epoch: 28 [38400/42000 (91%)]\tLoss: 0.021618\n",
      "\n",
      "Average loss: 0.0351, Accuracy: 41601/42000 (99%)\n",
      "\n",
      "Train Epoch: 29 [0/42000 (0%)]\tLoss: 0.009536\n",
      "Train Epoch: 29 [6400/42000 (15%)]\tLoss: 0.001411\n",
      "Train Epoch: 29 [12800/42000 (30%)]\tLoss: 0.009106\n",
      "Train Epoch: 29 [19200/42000 (46%)]\tLoss: 0.056887\n",
      "Train Epoch: 29 [25600/42000 (61%)]\tLoss: 0.019731\n",
      "Train Epoch: 29 [32000/42000 (76%)]\tLoss: 0.049699\n",
      "Train Epoch: 29 [38400/42000 (91%)]\tLoss: 0.087010\n",
      "\n",
      "Average loss: 0.0294, Accuracy: 41667/42000 (99%)\n",
      "\n"
     ]
    }
   ],
   "source": [
    "for epoch in range(30):\n",
    "    train(epoch)\n",
    "    evaluate(train_loader)"
   ]
  },
  {
   "cell_type": "markdown",
   "metadata": {},
   "source": [
    "## Prediction on Test Set"
   ]
  },
  {
   "cell_type": "code",
   "execution_count": 17,
   "metadata": {
    "collapsed": true
   },
   "outputs": [],
   "source": [
    "def prediciton(data_loader):\n",
    "    model.eval()\n",
    "    test_pred = torch.LongTensor()\n",
    "    \n",
    "    for i, data in enumerate(data_loader):\n",
    "        data = Variable(data, volatile=True)\n",
    "        if torch.cuda.is_available():\n",
    "            data = data.cuda()\n",
    "            \n",
    "        output = model(data)\n",
    "        \n",
    "        pred = output.cpu().data.max(1, keepdim=True)[1]\n",
    "        test_pred = torch.cat((test_pred, pred), dim=0)\n",
    "        \n",
    "    return test_pred"
   ]
  },
  {
   "cell_type": "code",
   "execution_count": 18,
   "metadata": {
    "collapsed": true
   },
   "outputs": [],
   "source": [
    "test_pred = prediciton(test_loader)"
   ]
  },
  {
   "cell_type": "code",
   "execution_count": 19,
   "metadata": {
    "collapsed": true
   },
   "outputs": [],
   "source": [
    "out_df = pd.DataFrame(np.c_[np.arange(1, len(test_dataset)+1)[:,None], test_pred.numpy()], \n",
    "                      columns=['ImageId', 'Label'])"
   ]
  },
  {
   "cell_type": "code",
   "execution_count": 20,
   "metadata": {},
   "outputs": [
    {
     "data": {
      "text/html": [
       "<div>\n",
       "<style>\n",
       "    .dataframe thead tr:only-child th {\n",
       "        text-align: right;\n",
       "    }\n",
       "\n",
       "    .dataframe thead th {\n",
       "        text-align: left;\n",
       "    }\n",
       "\n",
       "    .dataframe tbody tr th {\n",
       "        vertical-align: top;\n",
       "    }\n",
       "</style>\n",
       "<table border=\"1\" class=\"dataframe\">\n",
       "  <thead>\n",
       "    <tr style=\"text-align: right;\">\n",
       "      <th></th>\n",
       "      <th>ImageId</th>\n",
       "      <th>Label</th>\n",
       "    </tr>\n",
       "  </thead>\n",
       "  <tbody>\n",
       "    <tr>\n",
       "      <th>0</th>\n",
       "      <td>1</td>\n",
       "      <td>2</td>\n",
       "    </tr>\n",
       "    <tr>\n",
       "      <th>1</th>\n",
       "      <td>2</td>\n",
       "      <td>0</td>\n",
       "    </tr>\n",
       "    <tr>\n",
       "      <th>2</th>\n",
       "      <td>3</td>\n",
       "      <td>9</td>\n",
       "    </tr>\n",
       "    <tr>\n",
       "      <th>3</th>\n",
       "      <td>4</td>\n",
       "      <td>0</td>\n",
       "    </tr>\n",
       "    <tr>\n",
       "      <th>4</th>\n",
       "      <td>5</td>\n",
       "      <td>3</td>\n",
       "    </tr>\n",
       "  </tbody>\n",
       "</table>\n",
       "</div>"
      ],
      "text/plain": [
       "   ImageId  Label\n",
       "0        1      2\n",
       "1        2      0\n",
       "2        3      9\n",
       "3        4      0\n",
       "4        5      3"
      ]
     },
     "execution_count": 20,
     "metadata": {},
     "output_type": "execute_result"
    }
   ],
   "source": [
    "out_df.head()"
   ]
  },
  {
   "cell_type": "code",
   "execution_count": 21,
   "metadata": {
    "collapsed": true
   },
   "outputs": [],
   "source": [
    "out_df.to_csv('../output/vgg_sub2.csv', index=False)"
   ]
  }
 ],
 "metadata": {
  "kernelspec": {
   "display_name": "Python 3",
   "language": "python",
   "name": "python3"
  },
  "language_info": {
   "codemirror_mode": {
    "name": "ipython",
    "version": 3
   },
   "file_extension": ".py",
   "mimetype": "text/x-python",
   "name": "python",
   "nbconvert_exporter": "python",
   "pygments_lexer": "ipython3",
   "version": "3.6.0"
  }
 },
 "nbformat": 4,
 "nbformat_minor": 2
}
